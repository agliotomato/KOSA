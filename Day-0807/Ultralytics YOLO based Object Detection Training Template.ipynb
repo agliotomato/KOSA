{
 "cells": [
  {
   "cell_type": "markdown",
   "metadata": {
    "id": "GAJZ4Py5RSmG"
   },
   "source": [
    "# Ultralytics YOLO based Object Detection Training Template"
   ]
  },
  {
   "cell_type": "markdown",
   "metadata": {},
   "source": [
    "데이터셋을 분할합니다.\n",
    "\n",
    "아래 코드 셀에서 FIXME 부분에 데이터셋 경로를 넣어 주세요.\n",
    "\n",
    "데이터셋 경로에는 이미지와 label 텍스트 파일이 있는 것을 가정합니다."
   ]
  },
  {
   "cell_type": "code",
   "execution_count": null,
   "metadata": {},
   "outputs": [],
   "source": [
    "DATASET_ROOT_PATH = r\"D:\\JinyeongWang\\deeplearningwithjetson\\Prepare_Projects\\VOCdevkit\\VOC2012\\JPEGImages\""
   ]
  },
  {
   "cell_type": "markdown",
   "metadata": {},
   "source": [
    "데이터셋을 훈련과 검증 데이터셋으로 분할합니다.\n",
    "\n",
    "7:3으로 분할하겠습니다.\n",
    "\n",
    "아래 코드셀은 수정하지 않고 바로 실행합니다."
   ]
  },
  {
   "cell_type": "code",
   "execution_count": null,
   "metadata": {
    "id": "z5X3z2wYaEjD"
   },
   "outputs": [],
   "source": [
    "import os\n",
    "import shutil\n",
    "\n",
    "data_list = os.listdir(DATASET_ROOT_PATH)\n",
    "data_list.sort()\n",
    "data_dict = dict()\n",
    "\n",
    "for file_path in data_list:\n",
    "    file_name, file_extension = os.path.splitext(file_path)\n",
    "    if file_name not in data_dict and file_extension in [\".jpg\",\".jpeg\",\".png\",\".bmp\",\".tiff\",\".tif\", \".txt\"]:\n",
    "        data_dict[file_name] = dict(\n",
    "            img=\"\",\n",
    "            txt=\"\",\n",
    "            train_val=\"\"\n",
    "        )\n",
    "    if file_extension == \".txt\":\n",
    "        data_dict[file_name][\"txt\"] = file_path\n",
    "    elif file_extension.lower() in [\".jpg\",\".jpeg\",\".png\",\".bmp\",\".tiff\",\".tif\"]:\n",
    "        data_dict[file_name][\"img\"] = file_path\n",
    "    else:\n",
    "        print(\"SOMTHING WENT WRONG, CHECK FILE: \", os.path.join(DATASET_ROOT_PATH, file_path))\n",
    "\n",
    "data_index = 0\n",
    "num_of_train = 0\n",
    "num_of_val = 0\n",
    "for data_name, data_sub_dict in data_dict.items():\n",
    "    if data_sub_dict[\"img\"] == \"\" or data_sub_dict[\"txt\"] == \"\":\n",
    "        continue\n",
    "    if data_index % 10 < 3:\n",
    "        data_dict[data_name][\"train_val\"] = \"val\"\n",
    "        num_of_val += 1\n",
    "    else:\n",
    "        data_dict[data_name][\"train_val\"] = \"train\"\n",
    "        num_of_train += 1\n",
    "    data_index += 1\n",
    "\n",
    "val_root = os.path.join(DATASET_ROOT_PATH, \"val\")\n",
    "train_root = os.path.join(DATASET_ROOT_PATH, \"train\")\n",
    "os.makedirs(val_root, exist_ok=True)\n",
    "os.makedirs(train_root, exist_ok=True)\n",
    "\n",
    "for data_name, data_sub_dict in data_dict.items():\n",
    "    img_src = os.path.join(DATASET_ROOT_PATH, data_dict[data_name][\"img\"])\n",
    "    txt_src = os.path.join(DATASET_ROOT_PATH, data_dict[data_name][\"txt\"])\n",
    "    if data_dict[data_name][\"train_val\"] == \"train\":\n",
    "        img_dst = os.path.join(train_root, data_dict[data_name][\"img\"])\n",
    "        txt_dst = os.path.join(train_root, data_dict[data_name][\"txt\"])\n",
    "    elif data_dict[data_name][\"train_val\"] == \"val\":\n",
    "        img_dst = os.path.join(val_root, data_dict[data_name][\"img\"])\n",
    "        txt_dst = os.path.join(val_root, data_dict[data_name][\"txt\"])\n",
    "    shutil.copy2(img_src, img_dst)\n",
    "    shutil.copy2(txt_src, txt_dst)    \n",
    "print(\"data split done\")\n",
    "print(\"number of images for training: \", num_of_train)\n",
    "print(\"number of images for validationn: \", num_of_val)"
   ]
  },
  {
   "cell_type": "markdown",
   "metadata": {
    "id": "iuBCqXT6ZW7X"
   },
   "source": [
    "데이터셋 구성 파일을 생성합니다.\n",
    "\n",
    "프로젝트 내용에 맞게 수정해줍니다.\n",
    "\n",
    "names 부분만 수정합니다."
   ]
  },
  {
   "cell_type": "code",
   "execution_count": null,
   "metadata": {
    "id": "zhEC0YRHaLc3"
   },
   "outputs": [],
   "source": [
    "text_lines = f\"\"\"path: {DATASET_ROOT_PATH} # dataset root dir\n",
    "train: train # train images (relative to 'path')\n",
    "val: val # val images (relative to 'path')\n",
    "test: #optional\n",
    "\n",
    "names:\n",
    "  0: aeroplane\n",
    "  1: bicycle\n",
    "  2: bird\"\"\"\n",
    "with open(\"PROJECT_CUSTOM_DATASET.yaml\", 'w') as f:\n",
    "    f.write(text_lines)"
   ]
  },
  {
   "cell_type": "markdown",
   "metadata": {
    "id": "jgolJE99_ksz"
   },
   "source": [
    "ultralytics에서 YOLO 모델을 훈련합니다.\n",
    "\n",
    "[훈련 설정 문서 링크](https://docs.ultralytics.com/ko/modes/train/#why-choose-ultralytics-yolo-for-training)를 참고하여 아래 None을 수정한 후 적당한 모델을 훈련합니다."
   ]
  },
  {
   "cell_type": "code",
   "execution_count": null,
   "metadata": {},
   "outputs": [],
   "source": [
    "BASE_YOLO_MODEL = None\n",
    "NUM_OF_EPOCHS = None\n",
    "IMAGE_SIZE = None\n",
    "BATCH_SIZE = None\n",
    "MODEL_NAME = None\n",
    "SAVE_DIR = None"
   ]
  },
  {
   "cell_type": "markdown",
   "metadata": {},
   "source": [
    "Data augmentation을 적용하고자 하는 경우, 아래 [데이터 증강 문서 링크](https://docs.ultralytics.com/ko/guides/yolo-data-augmentation/#example-configurations)를 참고합니다.\n"
   ]
  },
  {
   "cell_type": "code",
   "execution_count": null,
   "metadata": {
    "id": "DIGFa0k9aRPG"
   },
   "outputs": [],
   "source": [
    "from ultralytics import YOLO\n",
    "\n",
    "# Load a model\n",
    "model = YOLO(BASE_YOLO_MODEL)\n",
    "\n",
    "# Train the model\n",
    "train_results = model.train(\n",
    "    data=\"PROJECT_CUSTOM_DATASET.yaml\",  # path to dataset YAML\n",
    "    epochs=NUM_OF_EPOCHS,  # number of training epochs\n",
    "    imgsz=IMAGE_SIZE,  # training image size\n",
    "    device=0,  # device to run on, i.e. device=0 or device=0,1,2,3 or device=cpu\n",
    "    batch=BATCH_SIZE,\n",
    "    name=MODEL_NAME,  # name of trained model\n",
    "    save_dir=SAVE_DIR\n",
    ")"
   ]
  },
  {
   "cell_type": "markdown",
   "metadata": {
    "id": "ceB_5qtx2_0b"
   },
   "source": [
    "이후 내용은 필요에 따라 작성합니다.\n",
    "\n",
    "노트북 셀의 출력을 절대 지우지 않은 그대로 저장하여 제출합니다."
   ]
  },
  {
   "cell_type": "code",
   "execution_count": null,
   "metadata": {},
   "outputs": [],
   "source": []
  }
 ],
 "metadata": {
  "accelerator": "GPU",
  "colab": {
   "gpuType": "T4",
   "provenance": []
  },
  "kernelspec": {
   "display_name": "Python 3 (ipykernel)",
   "language": "python",
   "name": "python3"
  },
  "language_info": {
   "codemirror_mode": {
    "name": "ipython",
    "version": 3
   },
   "file_extension": ".py",
   "mimetype": "text/x-python",
   "name": "python",
   "nbconvert_exporter": "python",
   "pygments_lexer": "ipython3",
   "version": "3.13.4"
  }
 },
 "nbformat": 4,
 "nbformat_minor": 4
}
